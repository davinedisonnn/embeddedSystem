{
 "cells": [
  {
   "cell_type": "code",
   "execution_count": null,
   "id": "2e07f538-a505-42f9-a5e5-d8199f0b8cc2",
   "metadata": {},
   "outputs": [],
   "source": [
    "from coppeliasim_zmqremoteapi_client import RemoteAPIClient\n",
    "\n",
    "client = RemoteAPIClient()\n",
    "sim = client.require('sim')\n",
    "\n",
    "sim.setStepping(True)\n",
    "\n",
    "sim.startSimulation()\n",
    "while (t := sim.getSimulationTime()) < 3:\n",
    "    print(f'Simulation time: {t:.2f} [s]')\n",
    "    sim.step()\n",
    "sim.stopSimulation()"
   ]
  },
  {
   "cell_type": "code",
   "execution_count": null,
   "id": "879d4c40-9e07-40af-a311-a97ee30eebac",
   "metadata": {},
   "outputs": [],
   "source": []
  },
  {
   "cell_type": "code",
   "execution_count": null,
   "id": "84dd5522-81b0-4202-b192-6d2a3d72a134",
   "metadata": {},
   "outputs": [],
   "source": []
  },
  {
   "cell_type": "code",
   "execution_count": null,
   "id": "31c59d78-f2bb-4cdb-ad7c-47674647ed8f",
   "metadata": {},
   "outputs": [],
   "source": []
  }
 ],
 "metadata": {
  "kernelspec": {
   "display_name": "Python 3 (ipykernel)",
   "language": "python",
   "name": "python3"
  },
  "language_info": {
   "codemirror_mode": {
    "name": "ipython",
    "version": 3
   },
   "file_extension": ".py",
   "mimetype": "text/x-python",
   "name": "python",
   "nbconvert_exporter": "python",
   "pygments_lexer": "ipython3",
   "version": "3.11.6"
  }
 },
 "nbformat": 4,
 "nbformat_minor": 5
}
